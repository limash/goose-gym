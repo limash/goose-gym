{
 "cells": [
  {
   "cell_type": "code",
   "execution_count": null,
   "id": "emotional-cloud",
   "metadata": {},
   "outputs": [],
   "source": [
    "from kaggle_environments import make\n",
    "\n",
    "import main"
   ]
  },
  {
   "cell_type": "code",
   "execution_count": null,
   "id": "bored-incentive",
   "metadata": {},
   "outputs": [],
   "source": [
    "trained_policy = main.get_cat_policy('gym_goose:goose-v0')"
   ]
  },
  {
   "cell_type": "code",
   "execution_count": null,
   "id": "difficult-screw",
   "metadata": {},
   "outputs": [],
   "source": [
    "goose = main.get_geese_agent(trained_policy)"
   ]
  },
  {
   "cell_type": "code",
   "execution_count": null,
   "id": "distinguished-caution",
   "metadata": {},
   "outputs": [],
   "source": [
    "environment = make(\"hungry_geese\")"
   ]
  },
  {
   "cell_type": "code",
   "execution_count": null,
   "id": "accessory-making",
   "metadata": {},
   "outputs": [],
   "source": [
    "logs = environment.run([goose, \"greedy\"])"
   ]
  },
  {
   "cell_type": "code",
   "execution_count": null,
   "id": "severe-rapid",
   "metadata": {},
   "outputs": [],
   "source": [
    "environment.render(mode=\"ipython\", width=800, height=600)"
   ]
  },
  {
   "cell_type": "code",
   "execution_count": null,
   "id": "desperate-argument",
   "metadata": {},
   "outputs": [],
   "source": [
    "logs"
   ]
  },
  {
   "cell_type": "code",
   "execution_count": null,
   "id": "banned-teddy",
   "metadata": {},
   "outputs": [],
   "source": []
  }
 ],
 "metadata": {
  "kernelspec": {
   "display_name": "Python 3",
   "language": "python",
   "name": "python3"
  },
  "language_info": {
   "codemirror_mode": {
    "name": "ipython",
    "version": 3
   },
   "file_extension": ".py",
   "mimetype": "text/x-python",
   "name": "python",
   "nbconvert_exporter": "python",
   "pygments_lexer": "ipython3",
   "version": "3.8.5"
  }
 },
 "nbformat": 4,
 "nbformat_minor": 5
}
