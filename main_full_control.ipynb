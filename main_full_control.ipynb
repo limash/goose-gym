{
 "cells": [
  {
   "cell_type": "code",
   "execution_count": null,
   "id": "emotional-cloud",
   "metadata": {},
   "outputs": [],
   "source": [
    "import numpy as np\n",
    "\n",
    "from kaggle_environments import make\n",
    "\n",
    "import main_full_control as main"
   ]
  },
  {
   "cell_type": "code",
   "execution_count": null,
   "id": "bored-incentive",
   "metadata": {},
   "outputs": [],
   "source": [
    "# policy = main.random_policy\n",
    "# policy = main.get_dqn_policy('gym_goose:goose-full_control-v3')\n",
    "# policy = main.get_cat_policy('gym_goose:goose-full_control-v3')\n",
    "policy = main.get_pg_exp_policy('gym_goose:goose-v7', file='data/data.pickle')\n",
    "# policy_base = main.get_pg_policy('gym_goose:goose-full_control-v3', file='data/data-40wins.pickle')"
   ]
  },
  {
   "cell_type": "code",
   "execution_count": null,
   "id": "difficult-screw",
   "metadata": {},
   "outputs": [],
   "source": [
    "# geese = [main.GeeseAgent(policy),\n",
    "#          main.GeeseAgent(policy),\n",
    "#          main.GeeseAgent(policy_base),\n",
    "#          main.GeeseAgent(policy_base),]"
   ]
  },
  {
   "cell_type": "code",
   "execution_count": null,
   "id": "dried-apple",
   "metadata": {},
   "outputs": [],
   "source": [
    "#j = 0\n",
    "#for _ in range(100):\n",
    "#    # env = make(\"hungry_geese\", debug=True)\n",
    "#    env = make(\"hungry_geese\")\n",
    "#    env.reset()\n",
    "#    logs = env.run([goose.get_action for goose in geese])\n",
    "#    # env.render(mode=\"ipython\", width=800, height=700)\n",
    "#    winner = np.asarray([logs[-1][i]['reward'] for i in range(4)]).argmax()\n",
    "#    if winner == 0 or winner == 1:\n",
    "#        j += 1\n",
    "#    # print(winner)\n",
    "#print(f\"Total wins: {j}\")"
   ]
  },
  {
   "cell_type": "code",
   "execution_count": null,
   "id": "ethical-checklist",
   "metadata": {},
   "outputs": [],
   "source": [
    "geese = [main.GeeseAgent(policy) for _ in range(4)]"
   ]
  },
  {
   "cell_type": "code",
   "execution_count": null,
   "id": "distinguished-caution",
   "metadata": {},
   "outputs": [],
   "source": [
    "environment = make('hungry_geese',\n",
    "                   configuration={\n",
    "                       'min_food': 2\n",
    "                   }, debug=True)"
   ]
  },
  {
   "cell_type": "code",
   "execution_count": null,
   "id": "accessory-making",
   "metadata": {
    "scrolled": true
   },
   "outputs": [],
   "source": [
    "logs = environment.run([goose.get_action for goose in geese])"
   ]
  },
  {
   "cell_type": "markdown",
   "id": "adopted-shopping",
   "metadata": {},
   "source": [
    "1: white 2: blue 3: green 4: red"
   ]
  },
  {
   "cell_type": "code",
   "execution_count": null,
   "id": "severe-rapid",
   "metadata": {
    "scrolled": false
   },
   "outputs": [],
   "source": [
    "environment.render(mode=\"ipython\", width=800, height=600)"
   ]
  },
  {
   "cell_type": "code",
   "execution_count": null,
   "id": "sunrise-bradford",
   "metadata": {},
   "outputs": [],
   "source": []
  }
 ],
 "metadata": {
  "kernelspec": {
   "display_name": "Python 3",
   "language": "python",
   "name": "python3"
  },
  "language_info": {
   "codemirror_mode": {
    "name": "ipython",
    "version": 3
   },
   "file_extension": ".py",
   "mimetype": "text/x-python",
   "name": "python",
   "nbconvert_exporter": "python",
   "pygments_lexer": "ipython3",
   "version": "3.8.10"
  }
 },
 "nbformat": 4,
 "nbformat_minor": 5
}
